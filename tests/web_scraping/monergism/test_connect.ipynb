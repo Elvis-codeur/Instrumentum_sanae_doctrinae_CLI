{
 "cells": [
  {
   "cell_type": "code",
   "execution_count": 14,
   "id": "128ae8c0",
   "metadata": {},
   "outputs": [],
   "source": [
    "import requests\n",
    "from bs4 import BeautifulSoup"
   ]
  },
  {
   "cell_type": "code",
   "execution_count": null,
   "id": "b80ed76d",
   "metadata": {},
   "outputs": [
    {
     "ename": "",
     "evalue": "",
     "output_type": "error",
     "traceback": [
      "\u001b[1;31mRunning cells with 'Python 3.12.3' requires the ipykernel package.\n",
      "\u001b[1;31m<a href='command:jupyter.createPythonEnvAndSelectController'>Create a Python Environment</a> with the required packages.\n",
      "\u001b[1;31mOr install 'ipykernel' using the command: '/usr/bin/python3 -m pip install ipykernel -U --user --force-reinstall'"
     ]
    }
   ],
   "source": [
    "headers = {\n",
    "    \"User-Agent\": (\n",
    "        \"Mozilla/5.0 (Windows NT 10.0; Win64; x64) \"\n",
    "        \"AppleWebKit/537.36 (KHTML, like Gecko) \"\n",
    "        \"Chrome/122.0.0.0 Safari/537.36\"\n",
    "    ),\n",
    "    \"Accept\": (\n",
    "        \"text/html,application/xhtml+xml,application/xml;\"\n",
    "        \"q=0.9,image/avif,image/webp,image/apng,*/*;q=0.8\"\n",
    "    ),\n",
    "    \"Accept-Language\": \"en-US,en;q=0.9\",\n",
    "    \"Accept-Encoding\": \"gzip, deflate, br\",\n",
    "    \"Connection\": \"keep-alive\",\n",
    "    \"Upgrade-Insecure-Requests\": \"1\",\n",
    "    \"Sec-Fetch-Dest\": \"document\",\n",
    "    \"Sec-Fetch-Mode\": \"navigate\",\n",
    "    \"Sec-Fetch-Site\": \"none\",\n",
    "    \"Sec-Fetch-User\": \"?1\",\n",
    "}\n",
    "\n",
    "url = \"https://www.monergism.com/topics\"\n",
    "response = requests.get(url,headers=headers)\n",
    "print(response.status_code)\n"
   ]
  },
  {
   "cell_type": "code",
   "execution_count": 3,
   "id": "64002ad5",
   "metadata": {},
   "outputs": [],
   "source": [
    "bs4_object = BeautifulSoup(response.text)"
   ]
  },
  {
   "cell_type": "code",
   "execution_count": 9,
   "id": "766a62e8",
   "metadata": {},
   "outputs": [],
   "source": [
    "with open(\"/home/elvis/Documents/ForGod/Scraping General/test_folder/f.html\",\"w\") as f:\n",
    "    f.write(response.text)"
   ]
  },
  {
   "cell_type": "code",
   "execution_count": 1,
   "id": "069c8bc1",
   "metadata": {},
   "outputs": [
    {
     "ename": "ModuleNotFoundError",
     "evalue": "No module named 'blinker._saferef'",
     "output_type": "error",
     "traceback": [
      "\u001b[31m---------------------------------------------------------------------------\u001b[39m",
      "\u001b[31mModuleNotFoundError\u001b[39m                       Traceback (most recent call last)",
      "\u001b[36mCell\u001b[39m\u001b[36m \u001b[39m\u001b[32mIn[1]\u001b[39m\u001b[32m, line 1\u001b[39m\n\u001b[32m----> \u001b[39m\u001b[32m1\u001b[39m \u001b[38;5;28;01mfrom\u001b[39;00m\u001b[38;5;250m \u001b[39m\u001b[34;01mseleniumwire\u001b[39;00m\u001b[38;5;250m \u001b[39m\u001b[38;5;28;01mimport\u001b[39;00m webdriver  \u001b[38;5;66;03m# Import from seleniumwire\u001b[39;00m\n\u001b[32m      3\u001b[39m \u001b[38;5;66;03m# Create a new instance of the Chrome driver\u001b[39;00m\n\u001b[32m      4\u001b[39m driver = webdriver.Chrome()\n",
      "\u001b[36mFile \u001b[39m\u001b[32m~/default_project_venv_and_lib_folder/python_venv/default_venv/lib/python3.12/site-packages/seleniumwire/webdriver.py:28\u001b[39m\n\u001b[32m     25\u001b[39m \u001b[38;5;28;01mfrom\u001b[39;00m\u001b[38;5;250m \u001b[39m\u001b[34;01mselenium\u001b[39;00m\u001b[34;01m.\u001b[39;00m\u001b[34;01mwebdriver\u001b[39;00m\u001b[38;5;250m \u001b[39m\u001b[38;5;28;01mimport\u001b[39;00m Remote \u001b[38;5;28;01mas\u001b[39;00m _Remote\n\u001b[32m     26\u001b[39m \u001b[38;5;28;01mfrom\u001b[39;00m\u001b[38;5;250m \u001b[39m\u001b[34;01mselenium\u001b[39;00m\u001b[34;01m.\u001b[39;00m\u001b[34;01mwebdriver\u001b[39;00m\u001b[38;5;250m \u001b[39m\u001b[38;5;28;01mimport\u001b[39;00m Safari \u001b[38;5;28;01mas\u001b[39;00m _Safari\n\u001b[32m---> \u001b[39m\u001b[32m28\u001b[39m \u001b[38;5;28;01mfrom\u001b[39;00m\u001b[38;5;250m \u001b[39m\u001b[34;01mseleniumwire\u001b[39;00m\u001b[38;5;250m \u001b[39m\u001b[38;5;28;01mimport\u001b[39;00m backend, utils\n\u001b[32m     29\u001b[39m \u001b[38;5;28;01mfrom\u001b[39;00m\u001b[38;5;250m \u001b[39m\u001b[34;01mseleniumwire\u001b[39;00m\u001b[34;01m.\u001b[39;00m\u001b[34;01minspect\u001b[39;00m\u001b[38;5;250m \u001b[39m\u001b[38;5;28;01mimport\u001b[39;00m InspectRequestsMixin\n\u001b[32m     31\u001b[39m SELENIUM_V4 = parse_version(\u001b[38;5;28mgetattr\u001b[39m(selenium, \u001b[33m'\u001b[39m\u001b[33m__version__\u001b[39m\u001b[33m'\u001b[39m, \u001b[33m'\u001b[39m\u001b[33m0\u001b[39m\u001b[33m'\u001b[39m)) >= parse_version(\u001b[33m'\u001b[39m\u001b[33m4.0.0\u001b[39m\u001b[33m'\u001b[39m)\n",
      "\u001b[36mFile \u001b[39m\u001b[32m~/default_project_venv_and_lib_folder/python_venv/default_venv/lib/python3.12/site-packages/seleniumwire/backend.py:4\u001b[39m\n\u001b[32m      1\u001b[39m \u001b[38;5;28;01mimport\u001b[39;00m\u001b[38;5;250m \u001b[39m\u001b[34;01mlogging\u001b[39;00m\n\u001b[32m      2\u001b[39m \u001b[38;5;28;01mimport\u001b[39;00m\u001b[38;5;250m \u001b[39m\u001b[34;01mthreading\u001b[39;00m\n\u001b[32m----> \u001b[39m\u001b[32m4\u001b[39m \u001b[38;5;28;01mfrom\u001b[39;00m\u001b[38;5;250m \u001b[39m\u001b[34;01mseleniumwire\u001b[39;00m\u001b[34;01m.\u001b[39;00m\u001b[34;01mserver\u001b[39;00m\u001b[38;5;250m \u001b[39m\u001b[38;5;28;01mimport\u001b[39;00m MitmProxy\n\u001b[32m      6\u001b[39m log = logging.getLogger(\u001b[34m__name__\u001b[39m)\n\u001b[32m      9\u001b[39m \u001b[38;5;28;01mdef\u001b[39;00m\u001b[38;5;250m \u001b[39m\u001b[34mcreate\u001b[39m(addr=\u001b[33m'\u001b[39m\u001b[33m127.0.0.1\u001b[39m\u001b[33m'\u001b[39m, port=\u001b[32m0\u001b[39m, options=\u001b[38;5;28;01mNone\u001b[39;00m):\n",
      "\u001b[36mFile \u001b[39m\u001b[32m~/default_project_venv_and_lib_folder/python_venv/default_venv/lib/python3.12/site-packages/seleniumwire/server.py:5\u001b[39m\n\u001b[32m      2\u001b[39m \u001b[38;5;28;01mimport\u001b[39;00m\u001b[38;5;250m \u001b[39m\u001b[34;01mlogging\u001b[39;00m\n\u001b[32m      4\u001b[39m \u001b[38;5;28;01mfrom\u001b[39;00m\u001b[38;5;250m \u001b[39m\u001b[34;01mseleniumwire\u001b[39;00m\u001b[38;5;250m \u001b[39m\u001b[38;5;28;01mimport\u001b[39;00m storage\n\u001b[32m----> \u001b[39m\u001b[32m5\u001b[39m \u001b[38;5;28;01mfrom\u001b[39;00m\u001b[38;5;250m \u001b[39m\u001b[34;01mseleniumwire\u001b[39;00m\u001b[34;01m.\u001b[39;00m\u001b[34;01mhandler\u001b[39;00m\u001b[38;5;250m \u001b[39m\u001b[38;5;28;01mimport\u001b[39;00m InterceptRequestHandler\n\u001b[32m      6\u001b[39m \u001b[38;5;28;01mfrom\u001b[39;00m\u001b[38;5;250m \u001b[39m\u001b[34;01mseleniumwire\u001b[39;00m\u001b[34;01m.\u001b[39;00m\u001b[34;01mmodifier\u001b[39;00m\u001b[38;5;250m \u001b[39m\u001b[38;5;28;01mimport\u001b[39;00m RequestModifier\n\u001b[32m      7\u001b[39m \u001b[38;5;28;01mfrom\u001b[39;00m\u001b[38;5;250m \u001b[39m\u001b[34;01mseleniumwire\u001b[39;00m\u001b[34;01m.\u001b[39;00m\u001b[34;01mthirdparty\u001b[39;00m\u001b[34;01m.\u001b[39;00m\u001b[34;01mmitmproxy\u001b[39;00m\u001b[38;5;250m \u001b[39m\u001b[38;5;28;01mimport\u001b[39;00m addons\n",
      "\u001b[36mFile \u001b[39m\u001b[32m~/default_project_venv_and_lib_folder/python_venv/default_venv/lib/python3.12/site-packages/seleniumwire/handler.py:5\u001b[39m\n\u001b[32m      2\u001b[39m \u001b[38;5;28;01mimport\u001b[39;00m\u001b[38;5;250m \u001b[39m\u001b[34;01mre\u001b[39;00m\n\u001b[32m      3\u001b[39m \u001b[38;5;28;01mfrom\u001b[39;00m\u001b[38;5;250m \u001b[39m\u001b[34;01mdatetime\u001b[39;00m\u001b[38;5;250m \u001b[39m\u001b[38;5;28;01mimport\u001b[39;00m datetime\n\u001b[32m----> \u001b[39m\u001b[32m5\u001b[39m \u001b[38;5;28;01mfrom\u001b[39;00m\u001b[38;5;250m \u001b[39m\u001b[34;01mseleniumwire\u001b[39;00m\u001b[38;5;250m \u001b[39m\u001b[38;5;28;01mimport\u001b[39;00m har\n\u001b[32m      6\u001b[39m \u001b[38;5;28;01mfrom\u001b[39;00m\u001b[38;5;250m \u001b[39m\u001b[34;01mseleniumwire\u001b[39;00m\u001b[34;01m.\u001b[39;00m\u001b[34;01mrequest\u001b[39;00m\u001b[38;5;250m \u001b[39m\u001b[38;5;28;01mimport\u001b[39;00m Request, Response, WebSocketMessage\n\u001b[32m      7\u001b[39m \u001b[38;5;28;01mfrom\u001b[39;00m\u001b[38;5;250m \u001b[39m\u001b[34;01mseleniumwire\u001b[39;00m\u001b[34;01m.\u001b[39;00m\u001b[34;01mthirdparty\u001b[39;00m\u001b[34;01m.\u001b[39;00m\u001b[34;01mmitmproxy\u001b[39;00m\u001b[34;01m.\u001b[39;00m\u001b[34;01mhttp\u001b[39;00m\u001b[38;5;250m \u001b[39m\u001b[38;5;28;01mimport\u001b[39;00m HTTPResponse\n",
      "\u001b[36mFile \u001b[39m\u001b[32m~/default_project_venv_and_lib_folder/python_venv/default_venv/lib/python3.12/site-packages/seleniumwire/har.py:11\u001b[39m\n\u001b[32m      8\u001b[39m \u001b[38;5;28;01mfrom\u001b[39;00m\u001b[38;5;250m \u001b[39m\u001b[34;01mtyping\u001b[39;00m\u001b[38;5;250m \u001b[39m\u001b[38;5;28;01mimport\u001b[39;00m List, Set\n\u001b[32m     10\u001b[39m \u001b[38;5;28;01mimport\u001b[39;00m\u001b[38;5;250m \u001b[39m\u001b[34;01mseleniumwire\u001b[39;00m\n\u001b[32m---> \u001b[39m\u001b[32m11\u001b[39m \u001b[38;5;28;01mfrom\u001b[39;00m\u001b[38;5;250m \u001b[39m\u001b[34;01mseleniumwire\u001b[39;00m\u001b[34;01m.\u001b[39;00m\u001b[34;01mthirdparty\u001b[39;00m\u001b[34;01m.\u001b[39;00m\u001b[34;01mmitmproxy\u001b[39;00m\u001b[38;5;250m \u001b[39m\u001b[38;5;28;01mimport\u001b[39;00m connections\n\u001b[32m     12\u001b[39m \u001b[38;5;28;01mfrom\u001b[39;00m\u001b[38;5;250m \u001b[39m\u001b[34;01mseleniumwire\u001b[39;00m\u001b[34;01m.\u001b[39;00m\u001b[34;01mthirdparty\u001b[39;00m\u001b[34;01m.\u001b[39;00m\u001b[34;01mmitmproxy\u001b[39;00m\u001b[34;01m.\u001b[39;00m\u001b[34;01mhttp\u001b[39;00m\u001b[38;5;250m \u001b[39m\u001b[38;5;28;01mimport\u001b[39;00m HTTPFlow\n\u001b[32m     13\u001b[39m \u001b[38;5;28;01mfrom\u001b[39;00m\u001b[38;5;250m \u001b[39m\u001b[34;01mseleniumwire\u001b[39;00m\u001b[34;01m.\u001b[39;00m\u001b[34;01mthirdparty\u001b[39;00m\u001b[34;01m.\u001b[39;00m\u001b[34;01mmitmproxy\u001b[39;00m\u001b[34;01m.\u001b[39;00m\u001b[34;01mnet\u001b[39;00m\u001b[34;01m.\u001b[39;00m\u001b[34;01mhttp\u001b[39;00m\u001b[38;5;250m \u001b[39m\u001b[38;5;28;01mimport\u001b[39;00m cookies\n",
      "\u001b[36mFile \u001b[39m\u001b[32m~/default_project_venv_and_lib_folder/python_venv/default_venv/lib/python3.12/site-packages/seleniumwire/thirdparty/mitmproxy/connections.py:10\u001b[39m\n\u001b[32m      7\u001b[39m \u001b[38;5;28;01mimport\u001b[39;00m\u001b[38;5;250m \u001b[39m\u001b[34;01msocks\u001b[39;00m\n\u001b[32m      9\u001b[39m \u001b[38;5;28;01mfrom\u001b[39;00m\u001b[38;5;250m \u001b[39m\u001b[34;01mseleniumwire\u001b[39;00m\u001b[34;01m.\u001b[39;00m\u001b[34;01mthirdparty\u001b[39;00m\u001b[34;01m.\u001b[39;00m\u001b[34;01mmitmproxy\u001b[39;00m\u001b[38;5;250m \u001b[39m\u001b[38;5;28;01mimport\u001b[39;00m certs, exceptions, stateobject\n\u001b[32m---> \u001b[39m\u001b[32m10\u001b[39m \u001b[38;5;28;01mfrom\u001b[39;00m\u001b[38;5;250m \u001b[39m\u001b[34;01mseleniumwire\u001b[39;00m\u001b[34;01m.\u001b[39;00m\u001b[34;01mthirdparty\u001b[39;00m\u001b[34;01m.\u001b[39;00m\u001b[34;01mmitmproxy\u001b[39;00m\u001b[34;01m.\u001b[39;00m\u001b[34;01mnet\u001b[39;00m\u001b[38;5;250m \u001b[39m\u001b[38;5;28;01mimport\u001b[39;00m tls, tcp\n\u001b[32m     11\u001b[39m \u001b[38;5;28;01mfrom\u001b[39;00m\u001b[38;5;250m \u001b[39m\u001b[34;01mseleniumwire\u001b[39;00m\u001b[34;01m.\u001b[39;00m\u001b[34;01mthirdparty\u001b[39;00m\u001b[34;01m.\u001b[39;00m\u001b[34;01mmitmproxy\u001b[39;00m\u001b[34;01m.\u001b[39;00m\u001b[34;01mutils\u001b[39;00m\u001b[38;5;250m \u001b[39m\u001b[38;5;28;01mimport\u001b[39;00m human, strutils\n\u001b[32m     14\u001b[39m \u001b[38;5;28;01mclass\u001b[39;00m\u001b[38;5;250m \u001b[39m\u001b[34;01mClientConnection\u001b[39;00m(tcp.BaseHandler, stateobject.StateObject):\n",
      "\u001b[36mFile \u001b[39m\u001b[32m~/default_project_venv_and_lib_folder/python_venv/default_venv/lib/python3.12/site-packages/seleniumwire/thirdparty/mitmproxy/net/tls.py:15\u001b[39m\n\u001b[32m     12\u001b[39m \u001b[38;5;28;01mfrom\u001b[39;00m\u001b[38;5;250m \u001b[39m\u001b[34;01mkaitaistruct\u001b[39;00m\u001b[38;5;250m \u001b[39m\u001b[38;5;28;01mimport\u001b[39;00m KaitaiStream\n\u001b[32m     13\u001b[39m \u001b[38;5;28;01mfrom\u001b[39;00m\u001b[38;5;250m \u001b[39m\u001b[34;01mOpenSSL\u001b[39;00m\u001b[38;5;250m \u001b[39m\u001b[38;5;28;01mimport\u001b[39;00m SSL\n\u001b[32m---> \u001b[39m\u001b[32m15\u001b[39m \u001b[38;5;28;01mimport\u001b[39;00m\u001b[38;5;250m \u001b[39m\u001b[34;01mseleniumwire\u001b[39;00m\u001b[34;01m.\u001b[39;00m\u001b[34;01mthirdparty\u001b[39;00m\u001b[34;01m.\u001b[39;00m\u001b[34;01mmitmproxy\u001b[39;00m\u001b[34;01m.\u001b[39;00m\u001b[34;01moptions\u001b[39;00m\n\u001b[32m     16\u001b[39m \u001b[38;5;28;01mfrom\u001b[39;00m\u001b[38;5;250m \u001b[39m\u001b[34;01mseleniumwire\u001b[39;00m\u001b[34;01m.\u001b[39;00m\u001b[34;01mthirdparty\u001b[39;00m\u001b[34;01m.\u001b[39;00m\u001b[34;01mmitmproxy\u001b[39;00m\u001b[38;5;250m \u001b[39m\u001b[38;5;28;01mimport\u001b[39;00m certs, exceptions\n\u001b[32m     17\u001b[39m \u001b[38;5;28;01mfrom\u001b[39;00m\u001b[38;5;250m \u001b[39m\u001b[34;01mseleniumwire\u001b[39;00m\u001b[34;01m.\u001b[39;00m\u001b[34;01mthirdparty\u001b[39;00m\u001b[34;01m.\u001b[39;00m\u001b[34;01mmitmproxy\u001b[39;00m\u001b[34;01m.\u001b[39;00m\u001b[34;01mcontrib\u001b[39;00m\u001b[34;01m.\u001b[39;00m\u001b[34;01mkaitaistruct\u001b[39;00m\u001b[38;5;250m \u001b[39m\u001b[38;5;28;01mimport\u001b[39;00m tls_client_hello\n",
      "\u001b[36mFile \u001b[39m\u001b[32m~/default_project_venv_and_lib_folder/python_venv/default_venv/lib/python3.12/site-packages/seleniumwire/thirdparty/mitmproxy/options.py:5\u001b[39m\n\u001b[32m      2\u001b[39m \u001b[38;5;28;01mimport\u001b[39;00m\u001b[38;5;250m \u001b[39m\u001b[34;01mtempfile\u001b[39;00m\n\u001b[32m      3\u001b[39m \u001b[38;5;28;01mfrom\u001b[39;00m\u001b[38;5;250m \u001b[39m\u001b[34;01mtyping\u001b[39;00m\u001b[38;5;250m \u001b[39m\u001b[38;5;28;01mimport\u001b[39;00m Optional, Sequence\n\u001b[32m----> \u001b[39m\u001b[32m5\u001b[39m \u001b[38;5;28;01mfrom\u001b[39;00m\u001b[38;5;250m \u001b[39m\u001b[34;01mseleniumwire\u001b[39;00m\u001b[34;01m.\u001b[39;00m\u001b[34;01mthirdparty\u001b[39;00m\u001b[34;01m.\u001b[39;00m\u001b[34;01mmitmproxy\u001b[39;00m\u001b[38;5;250m \u001b[39m\u001b[38;5;28;01mimport\u001b[39;00m optmanager\n\u001b[32m      6\u001b[39m \u001b[38;5;28;01mfrom\u001b[39;00m\u001b[38;5;250m \u001b[39m\u001b[34;01mseleniumwire\u001b[39;00m\u001b[34;01m.\u001b[39;00m\u001b[34;01mthirdparty\u001b[39;00m\u001b[34;01m.\u001b[39;00m\u001b[34;01mmitmproxy\u001b[39;00m\u001b[34;01m.\u001b[39;00m\u001b[34;01mnet\u001b[39;00m\u001b[38;5;250m \u001b[39m\u001b[38;5;28;01mimport\u001b[39;00m tls\n\u001b[32m      8\u001b[39m CONF_DIR = os.path.join(tempfile.gettempdir(), \u001b[33m'\u001b[39m\u001b[33m.seleniumwire\u001b[39m\u001b[33m'\u001b[39m)\n",
      "\u001b[36mFile \u001b[39m\u001b[32m~/default_project_venv_and_lib_folder/python_venv/default_venv/lib/python3.12/site-packages/seleniumwire/thirdparty/mitmproxy/optmanager.py:9\u001b[39m\n\u001b[32m      6\u001b[39m \u001b[38;5;28;01mimport\u001b[39;00m\u001b[38;5;250m \u001b[39m\u001b[34;01mtyping\u001b[39;00m\n\u001b[32m      8\u001b[39m \u001b[38;5;28;01mimport\u001b[39;00m\u001b[38;5;250m \u001b[39m\u001b[34;01mblinker\u001b[39;00m\n\u001b[32m----> \u001b[39m\u001b[32m9\u001b[39m \u001b[38;5;28;01mimport\u001b[39;00m\u001b[38;5;250m \u001b[39m\u001b[34;01mblinker\u001b[39;00m\u001b[34;01m.\u001b[39;00m\u001b[34;01m_saferef\u001b[39;00m\n\u001b[32m     11\u001b[39m \u001b[38;5;28;01mfrom\u001b[39;00m\u001b[38;5;250m \u001b[39m\u001b[34;01mseleniumwire\u001b[39;00m\u001b[34;01m.\u001b[39;00m\u001b[34;01mthirdparty\u001b[39;00m\u001b[34;01m.\u001b[39;00m\u001b[34;01mmitmproxy\u001b[39;00m\u001b[38;5;250m \u001b[39m\u001b[38;5;28;01mimport\u001b[39;00m exceptions\n\u001b[32m     12\u001b[39m \u001b[38;5;28;01mfrom\u001b[39;00m\u001b[38;5;250m \u001b[39m\u001b[34;01mseleniumwire\u001b[39;00m\u001b[34;01m.\u001b[39;00m\u001b[34;01mthirdparty\u001b[39;00m\u001b[34;01m.\u001b[39;00m\u001b[34;01mmitmproxy\u001b[39;00m\u001b[34;01m.\u001b[39;00m\u001b[34;01mutils\u001b[39;00m\u001b[38;5;250m \u001b[39m\u001b[38;5;28;01mimport\u001b[39;00m typecheck\n",
      "\u001b[31mModuleNotFoundError\u001b[39m: No module named 'blinker._saferef'"
     ]
    }
   ],
   "source": [
    "from seleniumwire import webdriver  # Import from seleniumwire\n",
    "\n",
    "# Create a new instance of the Chrome driver\n",
    "driver = webdriver.Chrome()\n",
    "\n",
    "# Go to the Google home page\n",
    "driver.get('https://www.google.com')\n",
    "\n",
    "# Access requests via the `requests` attribute\n",
    "for request in driver.requests:\n",
    "    if request.response:\n",
    "        print(\n",
    "            request.url,\n",
    "            request.response.status_code,\n",
    "            request.response.headers['Content-Type']\n",
    "        )"
   ]
  },
  {
   "cell_type": "code",
   "execution_count": 2,
   "id": "b1f64016",
   "metadata": {},
   "outputs": [
    {
     "name": "stdout",
     "output_type": "stream",
     "text": [
      "Requirement already satisfied: selenium-wire in /home/elvis/default_project_venv_and_lib_folder/python_venv/default_venv/lib/python3.12/site-packages (5.1.0)\n",
      "Requirement already satisfied: blinker>=1.4 in /home/elvis/default_project_venv_and_lib_folder/python_venv/default_venv/lib/python3.12/site-packages (from selenium-wire) (1.9.0)\n",
      "Requirement already satisfied: brotli>=1.0.9 in /home/elvis/default_project_venv_and_lib_folder/python_venv/default_venv/lib/python3.12/site-packages (from selenium-wire) (1.1.0)\n",
      "Requirement already satisfied: certifi>=2019.9.11 in /home/elvis/default_project_venv_and_lib_folder/python_venv/default_venv/lib/python3.12/site-packages (from selenium-wire) (2025.4.26)\n",
      "Requirement already satisfied: kaitaistruct>=0.7 in /home/elvis/default_project_venv_and_lib_folder/python_venv/default_venv/lib/python3.12/site-packages (from selenium-wire) (0.10)\n",
      "Requirement already satisfied: pyasn1>=0.3.1 in /home/elvis/default_project_venv_and_lib_folder/python_venv/default_venv/lib/python3.12/site-packages (from selenium-wire) (0.6.1)\n",
      "Requirement already satisfied: pyOpenSSL>=22.0.0 in /home/elvis/default_project_venv_and_lib_folder/python_venv/default_venv/lib/python3.12/site-packages (from selenium-wire) (25.0.0)\n",
      "Requirement already satisfied: pyparsing>=2.4.2 in /home/elvis/default_project_venv_and_lib_folder/python_venv/default_venv/lib/python3.12/site-packages (from selenium-wire) (3.2.3)\n",
      "Requirement already satisfied: pysocks>=1.7.1 in /home/elvis/default_project_venv_and_lib_folder/python_venv/default_venv/lib/python3.12/site-packages (from selenium-wire) (1.7.1)\n",
      "Requirement already satisfied: selenium>=4.0.0 in /home/elvis/default_project_venv_and_lib_folder/python_venv/default_venv/lib/python3.12/site-packages (from selenium-wire) (4.32.0)\n",
      "Requirement already satisfied: wsproto>=0.14 in /home/elvis/default_project_venv_and_lib_folder/python_venv/default_venv/lib/python3.12/site-packages (from selenium-wire) (1.2.0)\n",
      "Requirement already satisfied: zstandard>=0.14.1 in /home/elvis/default_project_venv_and_lib_folder/python_venv/default_venv/lib/python3.12/site-packages (from selenium-wire) (0.23.0)\n",
      "Requirement already satisfied: h2>=4.0 in /home/elvis/default_project_venv_and_lib_folder/python_venv/default_venv/lib/python3.12/site-packages (from selenium-wire) (4.2.0)\n",
      "Requirement already satisfied: hyperframe>=6.0 in /home/elvis/default_project_venv_and_lib_folder/python_venv/default_venv/lib/python3.12/site-packages (from selenium-wire) (6.1.0)\n",
      "Requirement already satisfied: hpack<5,>=4.1 in /home/elvis/default_project_venv_and_lib_folder/python_venv/default_venv/lib/python3.12/site-packages (from h2>=4.0->selenium-wire) (4.1.0)\n",
      "Requirement already satisfied: cryptography<45,>=41.0.5 in /home/elvis/default_project_venv_and_lib_folder/python_venv/default_venv/lib/python3.12/site-packages (from pyOpenSSL>=22.0.0->selenium-wire) (44.0.3)\n",
      "Requirement already satisfied: typing-extensions>=4.9 in /home/elvis/default_project_venv_and_lib_folder/python_venv/default_venv/lib/python3.12/site-packages (from pyOpenSSL>=22.0.0->selenium-wire) (4.13.2)\n",
      "Requirement already satisfied: urllib3<3,>=1.26 in /home/elvis/default_project_venv_and_lib_folder/python_venv/default_venv/lib/python3.12/site-packages (from urllib3[socks]<3,>=1.26->selenium>=4.0.0->selenium-wire) (2.4.0)\n",
      "Requirement already satisfied: trio~=0.17 in /home/elvis/default_project_venv_and_lib_folder/python_venv/default_venv/lib/python3.12/site-packages (from selenium>=4.0.0->selenium-wire) (0.30.0)\n",
      "Requirement already satisfied: trio-websocket~=0.9 in /home/elvis/default_project_venv_and_lib_folder/python_venv/default_venv/lib/python3.12/site-packages (from selenium>=4.0.0->selenium-wire) (0.12.2)\n",
      "Requirement already satisfied: websocket-client~=1.8 in /home/elvis/default_project_venv_and_lib_folder/python_venv/default_venv/lib/python3.12/site-packages (from selenium>=4.0.0->selenium-wire) (1.8.0)\n",
      "Requirement already satisfied: h11<1,>=0.9.0 in /home/elvis/default_project_venv_and_lib_folder/python_venv/default_venv/lib/python3.12/site-packages (from wsproto>=0.14->selenium-wire) (0.16.0)\n",
      "Requirement already satisfied: cffi>=1.12 in /home/elvis/default_project_venv_and_lib_folder/python_venv/default_venv/lib/python3.12/site-packages (from cryptography<45,>=41.0.5->pyOpenSSL>=22.0.0->selenium-wire) (1.17.1)\n",
      "Requirement already satisfied: attrs>=23.2.0 in /home/elvis/default_project_venv_and_lib_folder/python_venv/default_venv/lib/python3.12/site-packages (from trio~=0.17->selenium>=4.0.0->selenium-wire) (25.3.0)\n",
      "Requirement already satisfied: sortedcontainers in /home/elvis/default_project_venv_and_lib_folder/python_venv/default_venv/lib/python3.12/site-packages (from trio~=0.17->selenium>=4.0.0->selenium-wire) (2.4.0)\n",
      "Requirement already satisfied: idna in /home/elvis/default_project_venv_and_lib_folder/python_venv/default_venv/lib/python3.12/site-packages (from trio~=0.17->selenium>=4.0.0->selenium-wire) (3.10)\n",
      "Requirement already satisfied: outcome in /home/elvis/default_project_venv_and_lib_folder/python_venv/default_venv/lib/python3.12/site-packages (from trio~=0.17->selenium>=4.0.0->selenium-wire) (1.3.0.post0)\n",
      "Requirement already satisfied: sniffio>=1.3.0 in /home/elvis/default_project_venv_and_lib_folder/python_venv/default_venv/lib/python3.12/site-packages (from trio~=0.17->selenium>=4.0.0->selenium-wire) (1.3.1)\n",
      "Requirement already satisfied: pycparser in /home/elvis/default_project_venv_and_lib_folder/python_venv/default_venv/lib/python3.12/site-packages (from cffi>=1.12->cryptography<45,>=41.0.5->pyOpenSSL>=22.0.0->selenium-wire) (2.22)\n",
      "Note: you may need to restart the kernel to use updated packages.\n"
     ]
    }
   ],
   "source": [
    "%pip install selenium-wire"
   ]
  },
  {
   "cell_type": "code",
   "execution_count": 2,
   "id": "65c70e3c",
   "metadata": {},
   "outputs": [
    {
     "name": "stdout",
     "output_type": "stream",
     "text": [
      "Collecting requests\n",
      "  Using cached requests-2.32.3-py3-none-any.whl.metadata (4.6 kB)\n",
      "Collecting charset-normalizer<4,>=2 (from requests)\n",
      "  Downloading charset_normalizer-3.4.2-cp312-cp312-manylinux_2_17_x86_64.manylinux2014_x86_64.whl.metadata (35 kB)\n",
      "Requirement already satisfied: idna<4,>=2.5 in /home/elvis/default_project_venv_and_lib_folder/python_venv/default_venv/lib/python3.12/site-packages (from requests) (3.10)\n",
      "Requirement already satisfied: urllib3<3,>=1.21.1 in /home/elvis/default_project_venv_and_lib_folder/python_venv/default_venv/lib/python3.12/site-packages (from requests) (2.4.0)\n",
      "Requirement already satisfied: certifi>=2017.4.17 in /home/elvis/default_project_venv_and_lib_folder/python_venv/default_venv/lib/python3.12/site-packages (from requests) (2025.4.26)\n",
      "Using cached requests-2.32.3-py3-none-any.whl (64 kB)\n",
      "Downloading charset_normalizer-3.4.2-cp312-cp312-manylinux_2_17_x86_64.manylinux2014_x86_64.whl (148 kB)\n",
      "\u001b[2K   \u001b[90m━━━━━━━━━━━━━━━━━━━━━━━━━━━━━━━━━━━━━━━━\u001b[0m \u001b[32m148.6/148.6 kB\u001b[0m \u001b[31m10.4 MB/s\u001b[0m eta \u001b[36m0:00:00\u001b[0m\n",
      "\u001b[?25hInstalling collected packages: charset-normalizer, requests\n",
      "Successfully installed charset-normalizer-3.4.2 requests-2.32.3\n",
      "Note: you may need to restart the kernel to use updated packages.\n"
     ]
    }
   ],
   "source": [
    "%pip install requests"
   ]
  },
  {
   "cell_type": "code",
   "execution_count": 6,
   "id": "a47006e3",
   "metadata": {},
   "outputs": [
    {
     "name": "stdout",
     "output_type": "stream",
     "text": [
      "Status Code: 403\n",
      "Response Headers: {'Date': 'Thu, 08 May 2025 10:35:21 GMT', 'Content-Type': 'text/html; charset=UTF-8', 'Transfer-Encoding': 'chunked', 'Connection': 'close', 'accept-ch': 'Sec-CH-UA-Bitness, Sec-CH-UA-Arch, Sec-CH-UA-Full-Version, Sec-CH-UA-Mobile, Sec-CH-UA-Model, Sec-CH-UA-Platform-Version, Sec-CH-UA-Full-Version-List, Sec-CH-UA-Platform, Sec-CH-UA, UA-Bitness, UA-Arch, UA-Full-Version, UA-Mobile, UA-Model, UA-Platform-Version, UA-Platform, UA', 'cf-mitigated': 'challenge', 'critical-ch': 'Sec-CH-UA-Bitness, Sec-CH-UA-Arch, Sec-CH-UA-Full-Version, Sec-CH-UA-Mobile, Sec-CH-UA-Model, Sec-CH-UA-Platform-Version, Sec-CH-UA-Full-Version-List, Sec-CH-UA-Platform, Sec-CH-UA, UA-Bitness, UA-Arch, UA-Full-Version, UA-Mobile, UA-Model, UA-Platform-Version, UA-Platform, UA', 'cross-origin-embedder-policy': 'require-corp', 'cross-origin-opener-policy': 'same-origin', 'cross-origin-resource-policy': 'same-origin', 'origin-agent-cluster': '?1', 'permissions-policy': 'accelerometer=(),autoplay=(),browsing-topics=(),camera=(),clipboard-read=(),clipboard-write=(),geolocation=(),gyroscope=(),hid=(),interest-cohort=(),magnetometer=(),microphone=(),payment=(),publickey-credentials-get=(),screen-wake-lock=(),serial=(),sync-xhr=(),usb=()', 'referrer-policy': 'same-origin', 'server-timing': 'chlray;desc=\"93c84f537ba7d118\", cfL4;desc=\"?proto=TCP&rtt=5195&min_rtt=5192&rtt_var=1954&sent=5&recv=6&lost=0&retrans=0&sent_bytes=2846&recv_bytes=1138&delivery_rate=774712&cwnd=252&unsent_bytes=0&cid=9c724e3937595b4a&ts=27&x=0\"', 'x-content-type-options': 'nosniff', 'x-frame-options': 'SAMEORIGIN', 'Cache-Control': 'private, max-age=0, no-store, no-cache, must-revalidate, post-check=0, pre-check=0', 'Expires': 'Thu, 01 Jan 1970 00:00:01 GMT', 'Report-To': '{\"endpoints\":[{\"url\":\"https:\\\\/\\\\/a.nel.cloudflare.com\\\\/report\\\\/v4?s=W2wt242ubf5%2Fy%2BZ5snQnelckZbqIeU%2B486kcqPh0EGYXt%2FByO9cUEVJv0mseO66Zr5Lo2AMbp%2BoK2NreKl%2FPFyRvFc3clPih3nkB5evPEdZKonUpoM%2Bf%2BGCTyTeK74NJ19Q8kYQvdha81Psuf5EF\"}],\"group\":\"cf-nel\",\"max_age\":604800}', 'NEL': '{\"success_fraction\":0,\"report_to\":\"cf-nel\",\"max_age\":604800}', 'Vary': 'Accept-Encoding', 'Server': 'cloudflare', 'CF-RAY': '93c84f537ba7d118-CDG', 'Content-Encoding': 'br'}\n",
      "HTML Preview: <!DOCTYPE html><html lang=\"en-US\"><head><title>Just a moment...</title><meta http-equiv=\"Content-Type\" content=\"text/html; charset=UTF-8\"><meta http-equiv=\"X-UA-Compatible\" content=\"IE=Edge\"><meta name=\"robots\" content=\"noindex,nofollow\"><meta name=\"viewport\" content=\"width=device-width,initial-scale=1\"><style>*{box-sizing:border-box;margin:0;padding:0}html{line-height:1.15;-webkit-text-size-adjust:100%;color:#313131;font-family:system-ui,-apple-system,BlinkMacSystemFont,Segoe UI,Roboto,Helvetic\n"
     ]
    }
   ],
   "source": [
    "import requests\n",
    "\n",
    "# Realistic browser-like headers\n",
    "headers = {\n",
    "    \"User-Agent\": (\n",
    "        \"Mozilla/5.0 (Windows NT 10.0; Win64; x64) \"\n",
    "        \"AppleWebKit/537.36 (KHTML, like Gecko) \"\n",
    "        \"Chrome/122.0.0.0 Safari/537.36\"\n",
    "    ),\n",
    "    \"Accept\": \"text/html,application/xhtml+xml,application/xml;q=0.9,*/*;q=0.8\",\n",
    "    \"Accept-Language\": \"en-US,en;q=0.9\",\n",
    "    \"Accept-Encoding\": \"gzip, deflate, br\",\n",
    "    \"Connection\": \"keep-alive\",\n",
    "    \"Referer\": \"https://www.google.com/\",\n",
    "    \"Upgrade-Insecure-Requests\": \"1\",\n",
    "    \"Cache-Control\": \"no-cache\",\n",
    "    \"Pragma\": \"no-cache\"\n",
    "}\n",
    "\n",
    "# Example cookies (replace with actual ones if needed)\n",
    "cookies = {\n",
    "    \"sessionid\": \"your-session-id-here\",\n",
    "    \"csrftoken\": \"your-csrf-token-here\"\n",
    "}\n",
    "\n",
    "# URL you want to request\n",
    "url = \"https://www.monergism.com/topics\"\n",
    "\n",
    "# Send request\n",
    "response = requests.get(url, headers=headers, cookies=cookies)\n",
    "\n",
    "# Show results\n",
    "print(\"Status Code:\", response.status_code)\n",
    "print(\"Response Headers:\", response.headers)\n",
    "print(\"HTML Preview:\", response.text[:500])  # Print first 500 chars of HTML\n"
   ]
  },
  {
   "cell_type": "code",
   "execution_count": null,
   "id": "2891b637",
   "metadata": {},
   "outputs": [],
   "source": []
  }
 ],
 "metadata": {
  "kernelspec": {
   "display_name": "default_venv",
   "language": "python",
   "name": "python3"
  },
  "language_info": {
   "codemirror_mode": {
    "name": "ipython",
    "version": 3
   },
   "file_extension": ".py",
   "mimetype": "text/x-python",
   "name": "python",
   "nbconvert_exporter": "python",
   "pygments_lexer": "ipython3",
   "version": "3.12.3"
  }
 },
 "nbformat": 4,
 "nbformat_minor": 5
}
